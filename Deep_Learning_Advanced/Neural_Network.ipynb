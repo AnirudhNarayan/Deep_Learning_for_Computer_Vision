{
  "nbformat": 4,
  "nbformat_minor": 0,
  "metadata": {
    "colab": {
      "provenance": []
    },
    "kernelspec": {
      "name": "python3",
      "display_name": "Python 3"
    },
    "language_info": {
      "name": "python"
    }
  },
  "cells": [
    {
      "cell_type": "code",
      "execution_count": 2,
      "metadata": {
        "id": "tTuIbV6H18YC"
      },
      "outputs": [],
      "source": [
        "import torch\n",
        "import torch.nn as nn\n",
        "import torch.nn.functional as F\n",
        "import torch.optim as optim\n",
        "import torchvision\n",
        "from torch.utils.data import DataLoader\n",
        "import torchvision.datasets as datasets\n",
        "import torchvision.transforms as transforms\n",
        "import torchvision.models as models"
      ]
    },
    {
      "cell_type": "code",
      "source": [
        "class NN(nn.Module):\n",
        "  def __init__(self,input_size,num_classes):\n",
        "    super(NN,self).__init__()\n",
        "    self.fc1=nn.Linear(input_size,50)\n",
        "    self.fc2=nn.Linear(50,num_classes)\n",
        "  def forward(self,x):\n",
        "    x=F.relu(self.fc1(x))\n",
        "    x=self.fc2(x)\n",
        "    return x\n",
        "m=NN(784,10)\n",
        "x=torch.randn(64,784) # 784 is batch size and batch size is 64\n",
        "print(m(x).shape)\n",
        "\n",
        "#Set Device\n",
        "device=torch.device('cuda' if torch.cuda.is_available() else 'cpu')\n",
        "# Hyperparameters\n",
        "input_size=784\n",
        "num_classes=10\n",
        "learning_rate=0.001\n",
        "batch_size=64\n",
        "num_epochs=5\n",
        "train_dataset=datasets.MNIST(root='data',train=True,transform=transforms.ToTensor(),download=True)\n",
        "train_loader=DataLoader(dataset=train_dataset,batch_size=64,shuffle=True)\n",
        "test_dataset=datasets.MNIST(root='data',train=False,transform=transforms.ToTensor())\n",
        "test_loader=DataLoader(dataset=test_dataset, batch_size=64,shuffle=True)"
      ],
      "metadata": {
        "colab": {
          "base_uri": "https://localhost:8080/"
        },
        "id": "qyhn_Dyb3OOu",
        "outputId": "558cfdc3-1ff8-4d86-e237-7f54e870d52e"
      },
      "execution_count": 12,
      "outputs": [
        {
          "output_type": "stream",
          "name": "stdout",
          "text": [
            "torch.Size([64, 10])\n"
          ]
        }
      ]
    },
    {
      "cell_type": "code",
      "source": [
        "model=NN(input_size=input_size,num_classes=num_classes).to(device)\n",
        "# Loss Function\n",
        "criterion=nn.CrossEntropyLoss()\n",
        "# Optimizer\n",
        "optimizer=optim.Adam(model.parameters(),lr=learning_rate)\n",
        "# Train Network\n",
        "for epoch in range(num_epochs):\n",
        "  for batch_idx,(data,target) in enumerate(train_loader):\n",
        "    # Get data to cuda\n",
        "    data=data.to(device=device)\n",
        "    target=target.to(device=device)\n",
        "    data=data.reshape(data.shape[0],-1)\n",
        "    # Get data to cuda\n",
        "    #Forward\n",
        "    scores=model(data)\n",
        "    loss=criterion(scores,target)\n",
        "    # backward\n",
        "    optimizer.zero_grad()\n",
        "    loss.backward()\n",
        "    optimizer.step() # gradient descent"
      ],
      "metadata": {
        "id": "pbvZ8b9xmHky"
      },
      "execution_count": 21,
      "outputs": []
    },
    {
      "cell_type": "code",
      "source": [
        "def accuracy(loader,model):\n",
        "  c=0\n",
        "  s=0\n",
        "  model.eval()\n",
        "  i=1\n",
        "  j=1\n",
        "  with torch.no_grad(): # Dont remember the gradents during training\n",
        "    for x,y in loader:\n",
        "      x=x.to(device=device)\n",
        "      y=y.to(device=device)\n",
        "      if (i==1):\n",
        "        print(x.shape)\n",
        "        print(y.shape) # y is batch size\n",
        "        i+=1\n",
        "      x=x.reshape(x.shape[0],-1)\n",
        "      scores=model(x)\n",
        "      _,p=scores.max(1)\n",
        "      c+=(y==p).sum() # No of matching for that batch size which is 64\n",
        "      s+=p.shape[0]  # S is batch size\n",
        "  return c/s\n",
        "\n",
        "print(f'Train Accuracy: {accuracy(train_loader,model)*100}')\n",
        "print(f'Test Accuracy: {accuracy(test_loader,model)*100}')\n",
        "\n"
      ],
      "metadata": {
        "colab": {
          "base_uri": "https://localhost:8080/"
        },
        "id": "V8VV3Eshw_D5",
        "outputId": "ed81e7e7-9ed3-4804-a6a1-481c1f67c7ba"
      },
      "execution_count": 27,
      "outputs": [
        {
          "output_type": "stream",
          "name": "stdout",
          "text": [
            "torch.Size([64, 1, 28, 28])\n",
            "torch.Size([64])\n",
            "Train Accuracy: 97.25166320800781\n",
            "torch.Size([64, 1, 28, 28])\n",
            "torch.Size([64])\n",
            "Test Accuracy: 96.58000183105469\n"
          ]
        }
      ]
    }
  ]
}