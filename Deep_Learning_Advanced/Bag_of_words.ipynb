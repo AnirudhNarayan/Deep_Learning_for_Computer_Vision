{
  "nbformat": 4,
  "nbformat_minor": 0,
  "metadata": {
    "colab": {
      "provenance": []
    },
    "kernelspec": {
      "name": "python3",
      "display_name": "Python 3"
    },
    "language_info": {
      "name": "python"
    }
  },
  "cells": [
    {
      "cell_type": "code",
      "execution_count": null,
      "metadata": {
        "id": "-KhSp3ZOcSuK"
      },
      "outputs": [],
      "source": [
        "import cv2\n",
        "import numpy as np\n",
        "import matplotlib.pyplot as plt\n",
        "from PIL import Image\n",
        "import os\n",
        "import glob\n",
        "import math\n",
        "from sklearn.cluster import KMeans\n",
        "from sklearn.neighbors import NearestNeighbors\n",
        "from numpy.lib.shape_base import split"
      ]
    },
    {
      "cell_type": "markdown",
      "source": [
        "**Affline transformations**\n",
        "\n",
        "Apply the following chain of transformations on the generated coordinates:\n",
        "\n",
        "A) Rotation by 30 degrees.\n",
        "\n",
        "B) Translation of x coordinate by -1 units and y coordinate by 1 units.\n",
        "\n",
        "C) Scaling by 2 units.\n",
        "\n",
        "D) Rotation by 30 degrees.\n"
      ],
      "metadata": {
        "id": "-IASfLhWx4DZ"
      }
    },
    {
      "cell_type": "code",
      "source": [
        "np.random.seed(10)"
      ],
      "metadata": {
        "id": "FfwzT_lXx_UX"
      },
      "execution_count": null,
      "outputs": []
    },
    {
      "cell_type": "code",
      "source": [
        "def get_grid(x,y,h=False):\n",
        "  coords=np.indices((x,y)).reshape(2,-1)\n",
        "  return np.vstack((coords,np.ones(coords.shape[1]))).astype(int) if h else coords\n",
        "\n",
        "def grid_plotter(points,labels):\n",
        "  markers = ['o', 'x', 's', '^', 'p', 'v']\n",
        "  fig,ax=plt.subplots(figsize=(8,6))\n",
        "  for i,p in enumerate(points):\n",
        "    x,y=p[0],p[1]\n",
        "    ax.scatter(x,y,label=labels[i],marker=markers[i],alpha=0.8,s=100)\n",
        "  ax.legend(loc='lower right')\n",
        "  ax.set_xlim(-5,5)\n",
        "  ax.set_ylim(-5,5)\n",
        "  ax.grid(True)\n",
        "  plt.show()\n",
        "\n",
        "def show_image(img):\n",
        "  fig,ax=plt.subplots(figsize=(8,6))\n",
        "  ax.imshow(img)\n",
        "  plt.show()\n",
        "\n",
        "#generated coordinates\n",
        "coords = get_grid(2, 2, h=True)\n",
        "grid_plotter(np.array([coords]),\n",
        "             labels=['original'])\n"
      ],
      "metadata": {
        "colab": {
          "base_uri": "https://localhost:8080/",
          "height": 522
        },
        "id": "38Y7LnZg1PTt",
        "outputId": "0eeada68-54b8-4c12-d6b5-97dc7b7ad1bf"
      },
      "execution_count": null,
      "outputs": [
        {
          "output_type": "display_data",
          "data": {
            "text/plain": [
              "<Figure size 800x600 with 1 Axes>"
            ],
            "image/png": "[encoded data removed]"
          },
          "metadata": {}
        }
      ]
    },
    {
      "cell_type": "code",
      "source": [
        "# Defining a function to rotate the given set of points\n",
        "def get_rotation(angle):\n",
        "    angle = np.radians(angle)\n",
        "    return np.array([\n",
        "        [np.cos(angle), -np.sin(angle), 0],\n",
        "        [np.sin(angle),  np.cos(angle), 0],\n",
        "        [0, 0, 1]\n",
        "    ])\n",
        "\n",
        "def get_translation(tx, ty):\n",
        "    return np.array([\n",
        "        [1, 0, tx],\n",
        "        [0, 1, ty],\n",
        "        [0, 0, 1]\n",
        "    ])\n",
        "\n",
        "def get_scale(s):\n",
        "\n",
        "    return np.array([\n",
        "        [s, 0, 0],\n",
        "        [0, s, 0],\n",
        "        [0, 0, 1]\n",
        "    ])"
      ],
      "metadata": {
        "id": "A2zyvIGMANuv"
      },
      "execution_count": null,
      "outputs": []
    },
    {
      "cell_type": "code",
      "source": [
        "# Apply the following transformation\n",
        "R1 = get_rotation(30)\n",
        "T1 = get_translation(-1, 1)\n",
        "S1 = get_scale(2)\n",
        "\n",
        "\n",
        "# Rotation -> Translation -> Scaling -> Rotation\"\n",
        "coords1 = R1 @ T1 @ S1@ R1@coords\n"
      ],
      "metadata": {
        "id": "h_8_qNgEFpCm"
      },
      "execution_count": null,
      "outputs": []
    },
    {
      "cell_type": "code",
      "source": [
        "grid_plotter(np.array([coords1]),\n",
        "             labels=['A'])"
      ],
      "metadata": {
        "colab": {
          "base_uri": "https://localhost:8080/",
          "height": 522
        },
        "id": "xwnFp8XUG3-D",
        "outputId": "8754beb9-7d25-44fb-d7c9-96e18b8bdc7c"
      },
      "execution_count": null,
      "outputs": [
        {
          "output_type": "display_data",
          "data": {
            "text/plain": [
              "<Figure size 800x600 with 1 Axes>"
            ],
            "image/png": "[encoded data removed]"
          },
          "metadata": {}
        }
      ]
    },
    {
      "cell_type": "code",
      "source": [
        "#apply the following chain of transformations R1 -> S1 -> T1 to coords and name it coords_1\n",
        "coords_1=R1@S1@T1@coords\n",
        "\n",
        "coords_2=T1@R1@S1@T1@coords\n",
        "split_1=np.split(coords_1,coords_1.shape[1],axis=1)\n",
        "split_2=np.split(coords_2,coords_2.shape[1],axis=1)\n",
        "dist=[]\n",
        "for i in range(len(split_1)):\n",
        "  dist.append(np.linalg.norm(split_1[i]-split_2[i]))\n",
        "mean_value=np.mean(np.array(dist))\n",
        "np.floor(mean_value)\n",
        "\n"
      ],
      "metadata": {
        "colab": {
          "base_uri": "https://localhost:8080/"
        },
        "id": "d7uGDTPMIKjf",
        "outputId": "e0493d70-ffda-4d70-9a10-a83aa8c9edc9"
      },
      "execution_count": null,
      "outputs": [
        {
          "output_type": "execute_result",
          "data": {
            "text/plain": [
              "1.0"
            ]
          },
          "metadata": {},
          "execution_count": 7
        }
      ]
    },
    {
      "cell_type": "markdown",
      "source": [
        "**Bag of Words**\n",
        "\n",
        "Step 1. Given a folder of images, use SIFT to extract their feature descriptors.\n",
        "\n",
        "Step 2. Perform k-means clustering on the extracted descriptors.\n",
        "\n",
        "Step 3. Create histograms by taking help of the clusters calculated in the previous step.\n",
        "\n",
        "Step 4. Estimate 5 nearest neighbours to a given image and add the distances of those 5 neighbours."
      ],
      "metadata": {
        "id": "Yd6WvnzBWqKr"
      }
    },
    {
      "cell_type": "code",
      "source": [
        "extractor = cv2.xfeatures2d.SIFT_create()\n",
        "\n",
        "def features(image,extractor):\n",
        "  keypoints, descriptors = extractor.detectAndCompute(image, None)\n",
        "  return keypoints,descriptors\n",
        "\n",
        "def build_histogram(descriptor,cluster_alg):\n",
        "  histogram=np.zeros(len(cluster_alg.cluster_centers_))\n",
        "  cluster_result=cluster_alg.predict(descriptor)\n",
        "  for i in cluster_result:\n",
        "    histogram[i]+=1\n",
        "  return histogram\n",
        "\n",
        "def extract_descriptors(images,extractors):\n",
        "  d_list=[]\n",
        "  for image in images:\n",
        "    k,d=features(image,extractors)\n",
        "    d_list.append(d)\n",
        "    # vertically stack all the elements of the list\n",
        "    # using np.vstack()\n",
        "  ds=d_list[0]\n",
        "  for d in d_list[1:]:\n",
        "    ds=np.vstack((ds,d))\n",
        "  d_float=d.astype(float)\n",
        "  return d_float\n",
        "\n"
      ],
      "metadata": {
        "id": "VkIYGCVwWsek"
      },
      "execution_count": null,
      "outputs": []
    },
    {
      "cell_type": "code",
      "source": [
        "images=[]\n",
        "n=cv2.imread(\"White_Pelican_0005_95916.jpg\")\n",
        "#print(n)\n",
        "images.append(n)\n",
        "descriptors_float = extract_descriptors(images, extractor)\n",
        "kmeans=KMeans(n_clusters=100,random_state=0)\n",
        "kmeans.fit(descriptors_float)\n",
        "h_images=[]\n",
        "\n",
        "for image in images:\n",
        "    keypoint, descriptor = features(image, extractor)\n",
        "    descriptor = descriptor.astype(float)\n",
        "\n",
        "    if (descriptor is not None):\n",
        "        histogram = build_histogram(descriptor, kmeans)\n",
        "\n",
        "        h_images.append(histogram)"
      ],
      "metadata": {
        "colab": {
          "base_uri": "https://localhost:8080/"
        },
        "id": "iIFOS1vO0hYl",
        "outputId": "2c8a6fd2-3983-4c96-a2a9-23dcad9f8fa4"
      },
      "execution_count": null,
      "outputs": [
        {
          "output_type": "stream",
          "name": "stderr",
          "text": [
            "/usr/local/lib/python3.10/dist-packages/sklearn/cluster/_kmeans.py:870: FutureWarning: The default value of `n_init` will change from 10 to 'auto' in 1.4. Set the value of `n_init` explicitly to suppress the warning\n",
            "  warnings.warn(\n"
          ]
        }
      ]
    },
    {
      "cell_type": "code",
      "source": [
        "neighbour=NearestNeighbors(n_neighbors=5)\n",
        "neighbour.fit(h_images)\n",
        "data=cv2.imread(\"White_Pelican_0005_95916.jpg\")\n",
        "keypoint, descriptor = features(data, extractor)\n",
        "descriptor = descriptor.astype(float)\n",
        "histogram = build_histogram(descriptor, kmeans)\n",
        "keypoint, descriptor = features(data, extractor)\n",
        "descriptor = descriptor.astype(float)\n",
        "histogram = build_histogram(descriptor, kmeans)\n",
        "np.sum(dist)"
      ],
      "metadata": {
        "colab": {
          "base_uri": "https://localhost:8080/"
        },
        "id": "TEOxhoBL9sCj",
        "outputId": "e4161770-9186-4b78-87ed-7afb8b75f49a"
      },
      "execution_count": null,
      "outputs": [
        {
          "output_type": "execute_result",
          "data": {
            "text/plain": [
              "5.6568542494923815"
            ]
          },
          "metadata": {},
          "execution_count": 15
        }
      ]
    }
  ]
}