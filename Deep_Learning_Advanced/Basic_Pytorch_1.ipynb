{
  "nbformat": 4,
  "nbformat_minor": 0,
  "metadata": {
    "colab": {
      "provenance": []
    },
    "kernelspec": {
      "name": "python3",
      "display_name": "Python 3"
    },
    "language_info": {
      "name": "python"
    }
  },
  "cells": [
    {
      "cell_type": "markdown",
      "source": [
        "**Pytorch tutorial**"
      ],
      "metadata": {
        "id": "VcvvAvHaeA3H"
      }
    },
    {
      "cell_type": "code",
      "execution_count": 54,
      "metadata": {
        "id": "yJwGX1Fn4fv_",
        "colab": {
          "base_uri": "https://localhost:8080/"
        },
        "outputId": "5298951c-864b-40ce-e2d3-d4b5687a491f"
      },
      "outputs": [
        {
          "output_type": "stream",
          "name": "stdout",
          "text": [
            "tensor([[1., 2., 3.],\n",
            "        [4., 5., 6.]], requires_grad=True)\n"
          ]
        }
      ],
      "source": [
        "import torch\n",
        "device='cuda' if torch.cuda.is_available() else \"cpu\"\n",
        "import torch\n",
        "my_tensor=torch.tensor([[1,2,3],[4,5,6]], dtype=torch.float32,device='cpu',requires_grad=True)\n",
        "print(my_tensor)"
      ]
    },
    {
      "cell_type": "code",
      "source": [
        "print(my_tensor.dtype)\n",
        "x=torch.eye(5,5)\n",
        "print(x)\n",
        "x=torch.arange(start=0,end=5,step=1)\n",
        "print(x)\n",
        "x=torch.rand((3,3))\n",
        "print(x)\n",
        "x=torch.linspace(start=0.1,end=1,steps=10)\n",
        "print(x)\n",
        "x=torch.diag(torch.ones(5))\n",
        "print(x)"
      ],
      "metadata": {
        "id": "NoaUZZ1yd3Fj",
        "colab": {
          "base_uri": "https://localhost:8080/"
        },
        "collapsed": true,
        "outputId": "673937c0-3b9b-4112-c97d-d839bda2a571"
      },
      "execution_count": 55,
      "outputs": [
        {
          "output_type": "stream",
          "name": "stdout",
          "text": [
            "torch.float32\n",
            "tensor([[1., 0., 0., 0., 0.],\n",
            "        [0., 1., 0., 0., 0.],\n",
            "        [0., 0., 1., 0., 0.],\n",
            "        [0., 0., 0., 1., 0.],\n",
            "        [0., 0., 0., 0., 1.]])\n",
            "tensor([0, 1, 2, 3, 4])\n",
            "tensor([[0.8549, 0.1403, 0.8772],\n",
            "        [0.5876, 0.9676, 0.9477],\n",
            "        [0.2639, 0.5852, 0.8966]])\n",
            "tensor([0.1000, 0.2000, 0.3000, 0.4000, 0.5000, 0.6000, 0.7000, 0.8000, 0.9000,\n",
            "        1.0000])\n",
            "tensor([[1., 0., 0., 0., 0.],\n",
            "        [0., 1., 0., 0., 0.],\n",
            "        [0., 0., 1., 0., 0.],\n",
            "        [0., 0., 0., 1., 0.],\n",
            "        [0., 0., 0., 0., 1.]])\n"
          ]
        }
      ]
    },
    {
      "cell_type": "code",
      "source": [
        "import torch\n",
        "\n",
        "x = torch.arange(4)\n",
        "print(x.long())\n",
        "print(x.float())\n",
        "print(x.double())\n",
        "import numpy as np\n",
        "np_array=np.zeros((5,5))\n",
        "tensor=torch.from_numpy(np_array)\n",
        "print(type(tensor))"
      ],
      "metadata": {
        "colab": {
          "base_uri": "https://localhost:8080/"
        },
        "id": "yjY-4MnioQNk",
        "outputId": "aa518972-a84c-4b70-a4f7-4cd96f0382c1"
      },
      "execution_count": 56,
      "outputs": [
        {
          "output_type": "stream",
          "name": "stdout",
          "text": [
            "tensor([0, 1, 2, 3])\n",
            "tensor([0., 1., 2., 3.])\n",
            "tensor([0., 1., 2., 3.], dtype=torch.float64)\n",
            "<class 'torch.Tensor'>\n"
          ]
        }
      ]
    },
    {
      "cell_type": "markdown",
      "source": [
        "Tensor Math and Comparison Operations"
      ],
      "metadata": {
        "id": "SVl1JrzJpg7W"
      }
    },
    {
      "cell_type": "code",
      "source": [
        "z=torch.empty(3)\n",
        "#print(z)\n",
        "x=torch.tensor([1,2,3])\n",
        "y=torch.tensor([9,8,7])\n",
        "# Addition\n",
        "torch.add(x,y,out=z)\n",
        "z2=torch.add(x,y)\n",
        "z=x+y\n",
        "#inplace operations\n",
        "t=torch.zeros(3)\n",
        "t+=x\n",
        "#Exponentiation element wise pow of 2\n",
        "z=x.pow(2)\n",
        "z=x>0\n",
        "#print(z)\n",
        "\n",
        "# Matrix Multiplication\n",
        "x=torch.rand((2,2))\n",
        "y=torch.rand((2,2))\n",
        "z=torch.mm(x,y)\n",
        "#print(z)\n",
        "z=x.mm(y)\n",
        "#print(z)\n",
        "# Matrix exponential\n",
        "matrix_exp=torch.rand(5,5)\n",
        "matrix_exp.matrix_power(3)\n",
        "#print(matrix_exp)\n",
        "\n",
        "# Element wise multi\n",
        "z=x*y\n",
        "#print(z)\n",
        "# Batch wise multiplication\n",
        "batch=32\n",
        "n=10\n",
        "m=20\n",
        "p=30\n",
        "tensor1=torch.rand(batch,n,m)\n",
        "tensor2=torch.rand(batch,m,p)\n",
        "o=torch.bmm(tensor1,tensor2)\n",
        "#print(o.shape)\n",
        "\n",
        "# Broadcasting (Automatic expansion)\n",
        "\n",
        "x1=torch.rand((5,5))\n",
        "x2=torch.rand((1,5))\n",
        "z=x1-x1\n",
        "\n",
        "# Other operations\n",
        "x=torch.rand((3,2))\n",
        "sum=torch.sum(x,dim=0)\n",
        "#print(sum)\n",
        "value,index=torch.max(x,dim=0)\n",
        "abs=torch.abs(x)\n",
        "#print(torch.argmin(x,dim=0))\n",
        "mean_x=torch.mean(x.float(),dim=0)\n",
        "#print(mean_x)\n",
        "z=torch.sort(y,dim=0,descending=True)\n",
        "#print(z)\n",
        "x=torch.tensor([[22,10,0.8],[-0.6,7,8]])\n",
        "x=torch.clamp(x,min=0,max=10)\n",
        "#print(x)\n",
        "x=torch.tensor([1,0,1,1,1],dtype=torch.bool)\n",
        "z=torch.all(x)\n",
        "print(z)"
      ],
      "metadata": {
        "colab": {
          "base_uri": "https://localhost:8080/"
        },
        "id": "GxAnnNEJpj4o",
        "outputId": "51e770e8-893b-48c5-882d-7a1190d1f9a1"
      },
      "execution_count": 57,
      "outputs": [
        {
          "output_type": "stream",
          "name": "stdout",
          "text": [
            "tensor(False)\n"
          ]
        }
      ]
    },
    {
      "cell_type": "markdown",
      "source": [
        "**Indexing**"
      ],
      "metadata": {
        "id": "yDhlSE5zd-9l"
      }
    },
    {
      "cell_type": "code",
      "source": [
        "x=torch.arange(10)\n",
        "#print(x[(x>2)&(x>5)])\n",
        "#print(x[x.remainder(2)==0])\n",
        "\n",
        "# Useful Operations\n",
        "print(torch.where(x>5,x,x*2)) # Later is satisfied else option 1\n",
        "x=torch.arange(9)\n",
        "x=x.view(3,3) # View and reshape similar\n",
        "#print(x)\n",
        "\n",
        "y=x.t()\n",
        "#print(y)\n",
        "y=y.reshape(9)\n",
        "print(y)\n",
        "\n",
        "x1=torch.rand((2,5))\n",
        "x2=torch.rand((2,5))\n",
        "print(torch.cat((x1,x2),dim=0).shape)\n"
      ],
      "metadata": {
        "colab": {
          "base_uri": "https://localhost:8080/"
        },
        "id": "zIRk5GJYhiiR",
        "outputId": "c4dbea1e-8c6d-4dfc-af94-d9fd1c142f93"
      },
      "execution_count": 63,
      "outputs": [
        {
          "output_type": "stream",
          "name": "stdout",
          "text": [
            "tensor([ 0,  2,  4,  6,  8, 10,  6,  7,  8,  9])\n",
            "tensor([0, 3, 6, 1, 4, 7, 2, 5, 8])\n",
            "torch.Size([4, 5])\n"
          ]
        }
      ]
    },
    {
      "cell_type": "markdown",
      "source": [
        "**Permute**"
      ],
      "metadata": {
        "id": "-Y-v7vrAy-hw"
      }
    },
    {
      "cell_type": "code",
      "source": [
        "batch=64\n",
        "x=torch.rand((batch,3,4))\n",
        "z=x.permute(0,2,1)\n",
        "z1=x.permute(1,0,2)\n",
        "x=torch.rand((3,4))\n",
        "z2=x.t()\n",
        "print(z1.shape)\n",
        "print(z.shape)\n",
        "print(z2.shape)"
      ],
      "metadata": {
        "colab": {
          "base_uri": "https://localhost:8080/"
        },
        "id": "q1cQQZYczBKW",
        "outputId": "cc41af63-d38f-4c90-b34b-fc04b955a719"
      },
      "execution_count": 73,
      "outputs": [
        {
          "output_type": "stream",
          "name": "stdout",
          "text": [
            "torch.Size([3, 64, 4])\n",
            "torch.Size([64, 4, 3])\n",
            "torch.Size([4, 3])\n"
          ]
        }
      ]
    },
    {
      "cell_type": "markdown",
      "source": [
        "**Squeeze and Unsqueeze**"
      ],
      "metadata": {
        "id": "AMn9Jq_H00ew"
      }
    },
    {
      "cell_type": "code",
      "source": [
        "x=torch.rand(10)\n",
        "print(x)\n",
        "z=x.unsqueeze(0) # Matrix format...Basically a list into matrix . For 0 it means columns increase\n",
        "print(z)\n",
        "z=x.unsqueeze(1)\n",
        "print(z) # Row wise Unsqueeze"
      ],
      "metadata": {
        "colab": {
          "base_uri": "https://localhost:8080/"
        },
        "collapsed": true,
        "id": "ZRBeS9Yb03UE",
        "outputId": "fbb6e948-5994-432a-c0ff-a6592c089902"
      },
      "execution_count": 77,
      "outputs": [
        {
          "output_type": "stream",
          "name": "stdout",
          "text": [
            "tensor([0.4150, 0.7162, 0.7118, 0.2903, 0.8003, 0.8989, 0.4032, 0.3620, 0.6444,\n",
            "        0.6164])\n",
            "tensor([[0.4150, 0.7162, 0.7118, 0.2903, 0.8003, 0.8989, 0.4032, 0.3620, 0.6444,\n",
            "         0.6164]])\n",
            "tensor([[0.4150],\n",
            "        [0.7162],\n",
            "        [0.7118],\n",
            "        [0.2903],\n",
            "        [0.8003],\n",
            "        [0.8989],\n",
            "        [0.4032],\n",
            "        [0.3620],\n",
            "        [0.6444],\n",
            "        [0.6164]])\n"
          ]
        }
      ]
    }
  ]
}